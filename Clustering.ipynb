{
 "cells": [
  {
   "cell_type": "markdown",
   "metadata": {
    "id": "kZLRMFl0JyyQ"
   },
   "source": [
    "# **1. Perkenalan Dataset**\n"
   ]
  },
  {
   "cell_type": "markdown",
   "metadata": {},
   "source": [
    "### Dataset yang digunakan dalam analisis ini berisi informasi mengenai 8.681 restoran, mencakup berbagai atribut untuk menggambarkan karakteristik setiap restoran. Kolom-kolom dalam dataset meliputi ID, Area dan City yang menunjukkan lokasi restoran, Restaurant sebagai nama restoran, serta Price yang merepresentasikan kisaran harga makanan di restoran tersebut. Selain itu, terdapat atribut Avg Rating dan Total Ratings yang mencerminkan kualitas restoran berdasarkan ulasan pelanggan. Dataset ini juga mencakup informasi tentang Food Type, yang menggambarkan jenis makanan yang disediakan, Address sebagai lokasi lengkap restoran, dan Delivery Time yang menunjukkan waktu pengiriman."
   ]
  },
  {
   "cell_type": "markdown",
   "metadata": {
    "id": "fKADPWcFKlj3"
   },
   "source": [
    "# **2. Import Library**"
   ]
  },
  {
   "cell_type": "code",
   "execution_count": 1,
   "metadata": {
    "id": "BlmvjLY9M4Yj"
   },
   "outputs": [],
   "source": [
    "import pandas as pd\n",
    "import numpy as np\n",
    "import matplotlib.pyplot as plt\n",
    "import seaborn as sns\n",
    "from sklearn.preprocessing import MinMaxScaler, OneHotEncoder\n",
    "from sklearn.cluster import KMeans\n",
    "from sklearn.metrics import silhouette_score\n",
    "from sklearn.decomposition import PCA\n",
    "from matplotlib import rcParams\n",
    "from IPython.display import display"
   ]
  },
  {
   "cell_type": "markdown",
   "metadata": {
    "id": "f3YIEnAFKrKL"
   },
   "source": [
    "# **3. Memuat Dataset**"
   ]
  },
  {
   "cell_type": "code",
   "execution_count": 2,
   "metadata": {
    "id": "GHCGNTyrM5fS"
   },
   "outputs": [
    {
     "data": {
      "text/html": [
       "<div>\n",
       "<style scoped>\n",
       "    .dataframe tbody tr th:only-of-type {\n",
       "        vertical-align: middle;\n",
       "    }\n",
       "\n",
       "    .dataframe tbody tr th {\n",
       "        vertical-align: top;\n",
       "    }\n",
       "\n",
       "    .dataframe thead th {\n",
       "        text-align: right;\n",
       "    }\n",
       "</style>\n",
       "<table border=\"1\" class=\"dataframe\">\n",
       "  <thead>\n",
       "    <tr style=\"text-align: right;\">\n",
       "      <th></th>\n",
       "      <th>ID</th>\n",
       "      <th>Area</th>\n",
       "      <th>City</th>\n",
       "      <th>Restaurant</th>\n",
       "      <th>Price</th>\n",
       "      <th>Avg ratings</th>\n",
       "      <th>Total ratings</th>\n",
       "      <th>Food type</th>\n",
       "      <th>Address</th>\n",
       "      <th>Delivery time</th>\n",
       "    </tr>\n",
       "  </thead>\n",
       "  <tbody>\n",
       "    <tr>\n",
       "      <th>6993</th>\n",
       "      <td>55079</td>\n",
       "      <td>Navrangpura</td>\n",
       "      <td>Ahmedabad</td>\n",
       "      <td>Neelam Sandwich &amp; Pizza</td>\n",
       "      <td>300.0</td>\n",
       "      <td>4.2</td>\n",
       "      <td>50</td>\n",
       "      <td>Snacks,Beverages</td>\n",
       "      <td>Navrangpura</td>\n",
       "      <td>45</td>\n",
       "    </tr>\n",
       "    <tr>\n",
       "      <th>628</th>\n",
       "      <td>25844</td>\n",
       "      <td>Koregaon Park</td>\n",
       "      <td>Pune</td>\n",
       "      <td>Sassy Teaspoon</td>\n",
       "      <td>800.0</td>\n",
       "      <td>4.6</td>\n",
       "      <td>100</td>\n",
       "      <td>Ice Cream,Desserts,Bakery</td>\n",
       "      <td>Koregaon Park</td>\n",
       "      <td>47</td>\n",
       "    </tr>\n",
       "    <tr>\n",
       "      <th>3058</th>\n",
       "      <td>305154</td>\n",
       "      <td>Andheri East</td>\n",
       "      <td>Mumbai</td>\n",
       "      <td>The White Barn</td>\n",
       "      <td>750.0</td>\n",
       "      <td>4.4</td>\n",
       "      <td>20</td>\n",
       "      <td>American,Fast Food,Indian,Pastas,Chinese,Kebab...</td>\n",
       "      <td>Andheri East</td>\n",
       "      <td>58</td>\n",
       "    </tr>\n",
       "    <tr>\n",
       "      <th>2992</th>\n",
       "      <td>299751</td>\n",
       "      <td>Alwarpet</td>\n",
       "      <td>Chennai</td>\n",
       "      <td>Cappuccino At Crowne Plaza Chennai</td>\n",
       "      <td>300.0</td>\n",
       "      <td>4.5</td>\n",
       "      <td>20</td>\n",
       "      <td>North Indian,Indian,Salads,Biryani,Chinese,Jui...</td>\n",
       "      <td>Austin Nagar</td>\n",
       "      <td>77</td>\n",
       "    </tr>\n",
       "    <tr>\n",
       "      <th>1356</th>\n",
       "      <td>70522</td>\n",
       "      <td>Begampura</td>\n",
       "      <td>Surat</td>\n",
       "      <td>Taste Of Bhagwati</td>\n",
       "      <td>330.0</td>\n",
       "      <td>4.0</td>\n",
       "      <td>100</td>\n",
       "      <td>North Indian,Chinese,Oriental,Continental,Dess...</td>\n",
       "      <td>Textile Market Ring Road</td>\n",
       "      <td>45</td>\n",
       "    </tr>\n",
       "  </tbody>\n",
       "</table>\n",
       "</div>"
      ],
      "text/plain": [
       "          ID           Area       City                          Restaurant  \\\n",
       "6993   55079    Navrangpura  Ahmedabad             Neelam Sandwich & Pizza   \n",
       "628    25844  Koregaon Park       Pune                      Sassy Teaspoon   \n",
       "3058  305154   Andheri East     Mumbai                      The White Barn   \n",
       "2992  299751       Alwarpet    Chennai  Cappuccino At Crowne Plaza Chennai   \n",
       "1356   70522      Begampura      Surat                   Taste Of Bhagwati   \n",
       "\n",
       "      Price  Avg ratings  Total ratings  \\\n",
       "6993  300.0          4.2             50   \n",
       "628   800.0          4.6            100   \n",
       "3058  750.0          4.4             20   \n",
       "2992  300.0          4.5             20   \n",
       "1356  330.0          4.0            100   \n",
       "\n",
       "                                              Food type  \\\n",
       "6993                                   Snacks,Beverages   \n",
       "628                           Ice Cream,Desserts,Bakery   \n",
       "3058  American,Fast Food,Indian,Pastas,Chinese,Kebab...   \n",
       "2992  North Indian,Indian,Salads,Biryani,Chinese,Jui...   \n",
       "1356  North Indian,Chinese,Oriental,Continental,Dess...   \n",
       "\n",
       "                       Address  Delivery time  \n",
       "6993               Navrangpura             45  \n",
       "628              Koregaon Park             47  \n",
       "3058              Andheri East             58  \n",
       "2992              Austin Nagar             77  \n",
       "1356  Textile Market Ring Road             45  "
      ]
     },
     "execution_count": 2,
     "metadata": {},
     "output_type": "execute_result"
    }
   ],
   "source": [
    "df = pd.read_csv('swiggy.csv')\n",
    "df.sample(5)"
   ]
  },
  {
   "cell_type": "markdown",
   "metadata": {
    "id": "bgZkbJLpK9UR"
   },
   "source": [
    "# **4. Exploratory Data Analysis (EDA)**\n",
    "\n",
    "Pada tahap ini, Anda akan melakukan **Exploratory Data Analysis (EDA)** untuk memahami karakteristik dataset. EDA bertujuan untuk:\n",
    "\n",
    "1. **Memahami Struktur Data**\n",
    "   - Tinjau jumlah baris dan kolom dalam dataset.  \n",
    "   - Tinjau jenis data di setiap kolom (numerikal atau kategorikal).\n",
    "\n",
    "2. **Menangani Data yang Hilang**  \n",
    "   - Identifikasi dan analisis data yang hilang (*missing values*). Tentukan langkah-langkah yang diperlukan untuk menangani data yang hilang, seperti pengisian atau penghapusan data tersebut.\n",
    "\n",
    "3. **Analisis Distribusi dan Korelasi**  \n",
    "   - Analisis distribusi variabel numerik dengan statistik deskriptif dan visualisasi seperti histogram atau boxplot.  \n",
    "   - Periksa hubungan antara variabel menggunakan matriks korelasi atau scatter plot.\n",
    "\n",
    "4. **Visualisasi Data**  \n",
    "   - Buat visualisasi dasar seperti grafik distribusi dan diagram batang untuk variabel kategorikal.  \n",
    "   - Gunakan heatmap atau pairplot untuk menganalisis korelasi antar variabel.\n",
    "\n",
    "Tujuan dari EDA adalah untuk memperoleh wawasan awal yang mendalam mengenai data dan menentukan langkah selanjutnya dalam analisis atau pemodelan."
   ]
  },
  {
   "cell_type": "markdown",
   "metadata": {},
   "source": [
    "### A .Memahami Struktur Data"
   ]
  },
  {
   "cell_type": "code",
   "execution_count": 3,
   "metadata": {
    "id": "dKeejtvxM6X1"
   },
   "outputs": [
    {
     "name": "stdout",
     "output_type": "stream",
     "text": [
      "<class 'pandas.core.frame.DataFrame'>\n",
      "RangeIndex: 8680 entries, 0 to 8679\n",
      "Data columns (total 10 columns):\n",
      " #   Column         Non-Null Count  Dtype  \n",
      "---  ------         --------------  -----  \n",
      " 0   ID             8680 non-null   int64  \n",
      " 1   Area           8680 non-null   object \n",
      " 2   City           8680 non-null   object \n",
      " 3   Restaurant     8680 non-null   object \n",
      " 4   Price          8680 non-null   float64\n",
      " 5   Avg ratings    8680 non-null   float64\n",
      " 6   Total ratings  8680 non-null   int64  \n",
      " 7   Food type      8680 non-null   object \n",
      " 8   Address        8680 non-null   object \n",
      " 9   Delivery time  8680 non-null   int64  \n",
      "dtypes: float64(2), int64(3), object(5)\n",
      "memory usage: 678.2+ KB\n"
     ]
    }
   ],
   "source": [
    "df.info()"
   ]
  },
  {
   "cell_type": "code",
   "execution_count": 4,
   "metadata": {},
   "outputs": [
    {
     "data": {
      "text/html": [
       "<div>\n",
       "<style scoped>\n",
       "    .dataframe tbody tr th:only-of-type {\n",
       "        vertical-align: middle;\n",
       "    }\n",
       "\n",
       "    .dataframe tbody tr th {\n",
       "        vertical-align: top;\n",
       "    }\n",
       "\n",
       "    .dataframe thead th {\n",
       "        text-align: right;\n",
       "    }\n",
       "</style>\n",
       "<table border=\"1\" class=\"dataframe\">\n",
       "  <thead>\n",
       "    <tr style=\"text-align: right;\">\n",
       "      <th></th>\n",
       "      <th>ID</th>\n",
       "      <th>Area</th>\n",
       "      <th>City</th>\n",
       "      <th>Restaurant</th>\n",
       "      <th>Price</th>\n",
       "      <th>Avg ratings</th>\n",
       "      <th>Total ratings</th>\n",
       "      <th>Food type</th>\n",
       "      <th>Address</th>\n",
       "      <th>Delivery time</th>\n",
       "    </tr>\n",
       "  </thead>\n",
       "  <tbody>\n",
       "    <tr>\n",
       "      <th>count</th>\n",
       "      <td>8680.000000</td>\n",
       "      <td>8680</td>\n",
       "      <td>8680</td>\n",
       "      <td>8680</td>\n",
       "      <td>8680.000000</td>\n",
       "      <td>8680.000000</td>\n",
       "      <td>8680.000000</td>\n",
       "      <td>8680</td>\n",
       "      <td>8680</td>\n",
       "      <td>8680.000000</td>\n",
       "    </tr>\n",
       "    <tr>\n",
       "      <th>unique</th>\n",
       "      <td>NaN</td>\n",
       "      <td>833</td>\n",
       "      <td>9</td>\n",
       "      <td>7865</td>\n",
       "      <td>NaN</td>\n",
       "      <td>NaN</td>\n",
       "      <td>NaN</td>\n",
       "      <td>3734</td>\n",
       "      <td>2339</td>\n",
       "      <td>NaN</td>\n",
       "    </tr>\n",
       "    <tr>\n",
       "      <th>top</th>\n",
       "      <td>NaN</td>\n",
       "      <td>Rohini</td>\n",
       "      <td>Kolkata</td>\n",
       "      <td>La Pino'Z Pizza</td>\n",
       "      <td>NaN</td>\n",
       "      <td>NaN</td>\n",
       "      <td>NaN</td>\n",
       "      <td>Indian</td>\n",
       "      <td>Rohini</td>\n",
       "      <td>NaN</td>\n",
       "    </tr>\n",
       "    <tr>\n",
       "      <th>freq</th>\n",
       "      <td>NaN</td>\n",
       "      <td>257</td>\n",
       "      <td>1346</td>\n",
       "      <td>13</td>\n",
       "      <td>NaN</td>\n",
       "      <td>NaN</td>\n",
       "      <td>NaN</td>\n",
       "      <td>389</td>\n",
       "      <td>229</td>\n",
       "      <td>NaN</td>\n",
       "    </tr>\n",
       "    <tr>\n",
       "      <th>mean</th>\n",
       "      <td>244812.071429</td>\n",
       "      <td>NaN</td>\n",
       "      <td>NaN</td>\n",
       "      <td>NaN</td>\n",
       "      <td>348.444470</td>\n",
       "      <td>3.655104</td>\n",
       "      <td>156.634793</td>\n",
       "      <td>NaN</td>\n",
       "      <td>NaN</td>\n",
       "      <td>53.967051</td>\n",
       "    </tr>\n",
       "    <tr>\n",
       "      <th>std</th>\n",
       "      <td>158671.617188</td>\n",
       "      <td>NaN</td>\n",
       "      <td>NaN</td>\n",
       "      <td>NaN</td>\n",
       "      <td>230.940074</td>\n",
       "      <td>0.647629</td>\n",
       "      <td>391.448014</td>\n",
       "      <td>NaN</td>\n",
       "      <td>NaN</td>\n",
       "      <td>14.292335</td>\n",
       "    </tr>\n",
       "    <tr>\n",
       "      <th>min</th>\n",
       "      <td>211.000000</td>\n",
       "      <td>NaN</td>\n",
       "      <td>NaN</td>\n",
       "      <td>NaN</td>\n",
       "      <td>0.000000</td>\n",
       "      <td>2.000000</td>\n",
       "      <td>20.000000</td>\n",
       "      <td>NaN</td>\n",
       "      <td>NaN</td>\n",
       "      <td>20.000000</td>\n",
       "    </tr>\n",
       "    <tr>\n",
       "      <th>25%</th>\n",
       "      <td>72664.000000</td>\n",
       "      <td>NaN</td>\n",
       "      <td>NaN</td>\n",
       "      <td>NaN</td>\n",
       "      <td>200.000000</td>\n",
       "      <td>2.900000</td>\n",
       "      <td>50.000000</td>\n",
       "      <td>NaN</td>\n",
       "      <td>NaN</td>\n",
       "      <td>44.000000</td>\n",
       "    </tr>\n",
       "    <tr>\n",
       "      <th>50%</th>\n",
       "      <td>283442.000000</td>\n",
       "      <td>NaN</td>\n",
       "      <td>NaN</td>\n",
       "      <td>NaN</td>\n",
       "      <td>300.000000</td>\n",
       "      <td>3.900000</td>\n",
       "      <td>80.000000</td>\n",
       "      <td>NaN</td>\n",
       "      <td>NaN</td>\n",
       "      <td>53.000000</td>\n",
       "    </tr>\n",
       "    <tr>\n",
       "      <th>75%</th>\n",
       "      <td>393425.250000</td>\n",
       "      <td>NaN</td>\n",
       "      <td>NaN</td>\n",
       "      <td>NaN</td>\n",
       "      <td>400.000000</td>\n",
       "      <td>4.200000</td>\n",
       "      <td>100.000000</td>\n",
       "      <td>NaN</td>\n",
       "      <td>NaN</td>\n",
       "      <td>64.000000</td>\n",
       "    </tr>\n",
       "    <tr>\n",
       "      <th>max</th>\n",
       "      <td>466928.000000</td>\n",
       "      <td>NaN</td>\n",
       "      <td>NaN</td>\n",
       "      <td>NaN</td>\n",
       "      <td>2500.000000</td>\n",
       "      <td>5.000000</td>\n",
       "      <td>10000.000000</td>\n",
       "      <td>NaN</td>\n",
       "      <td>NaN</td>\n",
       "      <td>109.000000</td>\n",
       "    </tr>\n",
       "  </tbody>\n",
       "</table>\n",
       "</div>"
      ],
      "text/plain": [
       "                   ID    Area     City       Restaurant        Price  \\\n",
       "count     8680.000000    8680     8680             8680  8680.000000   \n",
       "unique            NaN     833        9             7865          NaN   \n",
       "top               NaN  Rohini  Kolkata  La Pino'Z Pizza          NaN   \n",
       "freq              NaN     257     1346               13          NaN   \n",
       "mean    244812.071429     NaN      NaN              NaN   348.444470   \n",
       "std     158671.617188     NaN      NaN              NaN   230.940074   \n",
       "min        211.000000     NaN      NaN              NaN     0.000000   \n",
       "25%      72664.000000     NaN      NaN              NaN   200.000000   \n",
       "50%     283442.000000     NaN      NaN              NaN   300.000000   \n",
       "75%     393425.250000     NaN      NaN              NaN   400.000000   \n",
       "max     466928.000000     NaN      NaN              NaN  2500.000000   \n",
       "\n",
       "        Avg ratings  Total ratings Food type Address  Delivery time  \n",
       "count   8680.000000    8680.000000      8680    8680    8680.000000  \n",
       "unique          NaN            NaN      3734    2339            NaN  \n",
       "top             NaN            NaN    Indian  Rohini            NaN  \n",
       "freq            NaN            NaN       389     229            NaN  \n",
       "mean       3.655104     156.634793       NaN     NaN      53.967051  \n",
       "std        0.647629     391.448014       NaN     NaN      14.292335  \n",
       "min        2.000000      20.000000       NaN     NaN      20.000000  \n",
       "25%        2.900000      50.000000       NaN     NaN      44.000000  \n",
       "50%        3.900000      80.000000       NaN     NaN      53.000000  \n",
       "75%        4.200000     100.000000       NaN     NaN      64.000000  \n",
       "max        5.000000   10000.000000       NaN     NaN     109.000000  "
      ]
     },
     "execution_count": 4,
     "metadata": {},
     "output_type": "execute_result"
    }
   ],
   "source": [
    "df.describe(include='all')"
   ]
  },
  {
   "cell_type": "markdown",
   "metadata": {},
   "source": [
    "### B. Menangani Data Yang Hilang"
   ]
  },
  {
   "cell_type": "code",
   "execution_count": 5,
   "metadata": {},
   "outputs": [
    {
     "data": {
      "text/plain": [
       "ID               0\n",
       "Area             0\n",
       "City             0\n",
       "Restaurant       0\n",
       "Price            0\n",
       "Avg ratings      0\n",
       "Total ratings    0\n",
       "Food type        0\n",
       "Address          0\n",
       "Delivery time    0\n",
       "dtype: int64"
      ]
     },
     "execution_count": 5,
     "metadata": {},
     "output_type": "execute_result"
    }
   ],
   "source": [
    "missing_value = df.isna().sum()\n",
    "\n",
    "missing_value"
   ]
  },
  {
   "cell_type": "markdown",
   "metadata": {},
   "source": [
    "### C. Analisis Distribusi, Korelasi, dan Visualisasi Data pada Dataset Fitur Numerik"
   ]
  },
  {
   "cell_type": "code",
   "execution_count": 6,
   "metadata": {},
   "outputs": [
    {
     "data": {
      "image/png": "[encoded data removed]",
      "text/plain": [
       "<Figure size 1400x1000 with 5 Axes>"
      ]
     },
     "metadata": {},
     "output_type": "display_data"
    }
   ],
   "source": [
    "# Distribusi fitur numerik\n",
    "numerik = df.select_dtypes(include=[np.number])\n",
    "plt.figure(figsize=(14, 10))\n",
    "for i, column in enumerate(numerik.columns, 1):\n",
    "    plt.subplot(3, 4, i)\n",
    "    sns.histplot(df[column], bins=30, kde=True, color='blue')\n",
    "    plt.title(f'Distribusi {column}')\n",
    "plt.tight_layout()\n",
    "plt.show()\n"
   ]
  },
  {
   "cell_type": "markdown",
   "metadata": {},
   "source": [
    "### D. Analisis Distribusi, Korelasi, dan Visualisasi Data pada Dataset Fitur Kategorikal\n"
   ]
  },
  {
   "cell_type": "code",
   "execution_count": 7,
   "metadata": {},
   "outputs": [
    {
     "name": "stdout",
     "output_type": "stream",
     "text": [
      "Plotting Area: 10 kategori\n",
      "Plotting City: 9 kategori\n",
      "Plotting Restaurant: 10 kategori\n",
      "Plotting Food type: 10 kategori\n",
      "Plotting Address: 10 kategori\n"
     ]
    },
    {
     "data": {
      "image/png": "[encoded data removed]",
      "text/plain": [
       "<Figure size 1400x800 with 5 Axes>"
      ]
     },
     "metadata": {},
     "output_type": "display_data"
    }
   ],
   "source": [
    "rcParams['font.family'] = 'Arial'\n",
    "\n",
    "kategori = df.select_dtypes(include=[object])\n",
    "\n",
    "\n",
    "n_cols = 4\n",
    "n_rows = -(-len(kategori.columns) // n_cols)  \n",
    "\n",
    "max_kategori = 10  \n",
    "\n",
    "plt.figure(figsize=(14, 4 * n_rows))\n",
    "\n",
    "for i, column in enumerate(kategori.columns, 1):\n",
    "    \n",
    "    top_kategori = df[column].value_counts().nlargest(max_kategori)\n",
    "    \n",
    "    plt.subplot(n_rows, n_cols, i)\n",
    "    \n",
    "   \n",
    "    sns.countplot(y=df[column], order=top_kategori.index, palette='viridis', hue=df[column], legend=False)\n",
    "    \n",
    "    plt.title(f'Distribusi {column}')\n",
    "    plt.ylabel('')  \n",
    "    plt.xticks(rotation=45, ha='right')\n",
    "    print(f\"Plotting {column}: {len(top_kategori)} kategori\")\n",
    "\n",
    "plt.tight_layout()\n",
    "plt.show()\n"
   ]
  },
  {
   "cell_type": "markdown",
   "metadata": {},
   "source": [
    "#### Insight :\n",
    "- Setelah melakukan identifikasi missing value pada dataset, nampaknya dataset tersebut tidak memilki missing value. Sehingga tidak perlu melakukan penanganan data yang hilang\n",
    "- Pada fitur kategorikal karena keragaman yang besar, maka saya hanya mengambil 10 ranking terbesar untuk ditampilkan pada visualisasi data\n"
   ]
  },
  {
   "cell_type": "markdown",
   "metadata": {
    "id": "cpgHfgnSK3ip"
   },
   "source": [
    "# **5. Data Preprocessing**"
   ]
  },
  {
   "cell_type": "markdown",
   "metadata": {
    "id": "COf8KUPXLg5r"
   },
   "source": [
    "Pada tahap ini, data preprocessing adalah langkah penting untuk memastikan kualitas data sebelum digunakan dalam model machine learning. Data mentah sering kali mengandung nilai kosong, duplikasi, atau rentang nilai yang tidak konsisten, yang dapat memengaruhi kinerja model. Oleh karena itu, proses ini bertujuan untuk membersihkan dan mempersiapkan data agar analisis berjalan optimal.\n",
    "\n",
    "Berikut adalah tahapan-tahapan yang perlu dilakukan, namun **tidak terbatas** pada:\n",
    "1. Menghapus atau Menangani Data Kosong (Missing Values)\n",
    "2. Menghapus Data Duplikat\n",
    "3. Normalisasi atau Standarisasi Fitur\n",
    "4. Deteksi dan Penanganan Outlier\n",
    "5. Encoding Data Kategorikal\n",
    "6. Binning (Pengelompokan Data)"
   ]
  },
  {
   "cell_type": "markdown",
   "metadata": {},
   "source": [
    "### A. Menghapus kolom yang tidak relevan untuk pelatihan model"
   ]
  },
  {
   "cell_type": "code",
   "execution_count": 8,
   "metadata": {},
   "outputs": [
    {
     "data": {
      "text/html": [
       "<div>\n",
       "<style scoped>\n",
       "    .dataframe tbody tr th:only-of-type {\n",
       "        vertical-align: middle;\n",
       "    }\n",
       "\n",
       "    .dataframe tbody tr th {\n",
       "        vertical-align: top;\n",
       "    }\n",
       "\n",
       "    .dataframe thead th {\n",
       "        text-align: right;\n",
       "    }\n",
       "</style>\n",
       "<table border=\"1\" class=\"dataframe\">\n",
       "  <thead>\n",
       "    <tr style=\"text-align: right;\">\n",
       "      <th></th>\n",
       "      <th>City</th>\n",
       "      <th>Price</th>\n",
       "      <th>Avg ratings</th>\n",
       "      <th>Total ratings</th>\n",
       "      <th>Food type</th>\n",
       "      <th>Delivery time</th>\n",
       "    </tr>\n",
       "  </thead>\n",
       "  <tbody>\n",
       "    <tr>\n",
       "      <th>0</th>\n",
       "      <td>Bangalore</td>\n",
       "      <td>300.0</td>\n",
       "      <td>4.4</td>\n",
       "      <td>100</td>\n",
       "      <td>Biryani,Chinese,North Indian,South Indian</td>\n",
       "      <td>59</td>\n",
       "    </tr>\n",
       "    <tr>\n",
       "      <th>1</th>\n",
       "      <td>Bangalore</td>\n",
       "      <td>300.0</td>\n",
       "      <td>4.1</td>\n",
       "      <td>100</td>\n",
       "      <td>Mughlai,Lucknowi</td>\n",
       "      <td>56</td>\n",
       "    </tr>\n",
       "    <tr>\n",
       "      <th>2</th>\n",
       "      <td>Bangalore</td>\n",
       "      <td>650.0</td>\n",
       "      <td>4.4</td>\n",
       "      <td>100</td>\n",
       "      <td>Chinese</td>\n",
       "      <td>50</td>\n",
       "    </tr>\n",
       "    <tr>\n",
       "      <th>3</th>\n",
       "      <td>Bangalore</td>\n",
       "      <td>250.0</td>\n",
       "      <td>3.9</td>\n",
       "      <td>500</td>\n",
       "      <td>North Indian,Punjabi,Tandoor,Chinese</td>\n",
       "      <td>57</td>\n",
       "    </tr>\n",
       "    <tr>\n",
       "      <th>4</th>\n",
       "      <td>Bangalore</td>\n",
       "      <td>350.0</td>\n",
       "      <td>4.0</td>\n",
       "      <td>50</td>\n",
       "      <td>Rajasthani,Gujarati,North Indian,Snacks,Desser...</td>\n",
       "      <td>63</td>\n",
       "    </tr>\n",
       "  </tbody>\n",
       "</table>\n",
       "</div>"
      ],
      "text/plain": [
       "        City  Price  Avg ratings  Total ratings  \\\n",
       "0  Bangalore  300.0          4.4            100   \n",
       "1  Bangalore  300.0          4.1            100   \n",
       "2  Bangalore  650.0          4.4            100   \n",
       "3  Bangalore  250.0          3.9            500   \n",
       "4  Bangalore  350.0          4.0             50   \n",
       "\n",
       "                                           Food type  Delivery time  \n",
       "0          Biryani,Chinese,North Indian,South Indian             59  \n",
       "1                                   Mughlai,Lucknowi             56  \n",
       "2                                            Chinese             50  \n",
       "3               North Indian,Punjabi,Tandoor,Chinese             57  \n",
       "4  Rajasthani,Gujarati,North Indian,Snacks,Desser...             63  "
      ]
     },
     "execution_count": 8,
     "metadata": {},
     "output_type": "execute_result"
    }
   ],
   "source": [
    "data_cleaned = df.drop(['ID', 'Restaurant', 'Address','Area'], axis=1)\n",
    "\n",
    "data_cleaned.head()"
   ]
  },
  {
   "cell_type": "markdown",
   "metadata": {},
   "source": [
    "### B. Melakukan Encoding untuk fitur kategorikal"
   ]
  },
  {
   "cell_type": "code",
   "execution_count": null,
   "metadata": {},
   "outputs": [
    {
     "data": {
      "text/plain": [
       "array([[1., 0., 0., ..., 0., 0., 0.],\n",
       "       [1., 0., 0., ..., 0., 0., 0.],\n",
       "       [1., 0., 0., ..., 0., 0., 0.],\n",
       "       ...,\n",
       "       [0., 0., 1., ..., 0., 0., 0.],\n",
       "       [0., 0., 1., ..., 0., 0., 0.],\n",
       "       [0., 0., 0., ..., 0., 0., 0.]])"
      ]
     },
     "metadata": {},
     "output_type": "display_data"
    }
   ],
   "source": [
    "kategori = ['City', 'Food type']\n",
    "encoder = OneHotEncoder(sparse_output=False, drop='first')\n",
    "encoded_kategori = encoder.fit_transform(data_cleaned[kategori])\n",
    "\n",
    "encoded_kategori"
   ]
  },
  {
   "cell_type": "markdown",
   "metadata": {},
   "source": [
    "### C. Melakukan Normalisasi pada fitur Numerik dengan MinMax"
   ]
  },
  {
   "cell_type": "code",
   "execution_count": 10,
   "metadata": {},
   "outputs": [
    {
     "data": {
      "text/plain": [
       "array([[0.12      , 0.8       , 0.43820225, 0.00801603],\n",
       "       [0.12      , 0.7       , 0.40449438, 0.00801603],\n",
       "       [0.26      , 0.8       , 0.33707865, 0.00801603],\n",
       "       ...,\n",
       "       [0.06      , 0.3       , 0.42696629, 0.00601202],\n",
       "       [0.06      , 0.3       , 0.08988764, 0.00601202],\n",
       "       [0.1       , 0.3       , 0.26966292, 0.00601202]])"
      ]
     },
     "execution_count": 10,
     "metadata": {},
     "output_type": "execute_result"
    }
   ],
   "source": [
    "numerik = ['Price' , 'Avg ratings', 'Delivery time', 'Total ratings']\n",
    "scaler = MinMaxScaler()\n",
    "scaled_numerik = scaler.fit_transform(data_cleaned[numerik])\n",
    "\n",
    "scaled_numerik"
   ]
  },
  {
   "cell_type": "markdown",
   "metadata": {},
   "source": [
    "### D. Melakukan Penggabungan kembali antara Fitur Kategorikal dan Fitur Numerik yang sebelumnya telah di proses"
   ]
  },
  {
   "cell_type": "code",
   "execution_count": 11,
   "metadata": {
    "id": "WzBGjcbQM7N8"
   },
   "outputs": [
    {
     "data": {
      "text/plain": [
       "array([[0.12      , 0.8       , 0.43820225, ..., 0.        , 0.        ,\n",
       "        0.        ],\n",
       "       [0.12      , 0.7       , 0.40449438, ..., 0.        , 0.        ,\n",
       "        0.        ],\n",
       "       [0.26      , 0.8       , 0.33707865, ..., 0.        , 0.        ,\n",
       "        0.        ],\n",
       "       ...,\n",
       "       [0.06      , 0.3       , 0.42696629, ..., 0.        , 0.        ,\n",
       "        0.        ],\n",
       "       [0.06      , 0.3       , 0.08988764, ..., 0.        , 0.        ,\n",
       "        0.        ],\n",
       "       [0.1       , 0.3       , 0.26966292, ..., 0.        , 0.        ,\n",
       "        0.        ]])"
      ]
     },
     "execution_count": 11,
     "metadata": {},
     "output_type": "execute_result"
    }
   ],
   "source": [
    "processed_data = np.hstack((scaled_numerik, encoded_kategori))\n",
    "\n",
    "processed_data\n"
   ]
  },
  {
   "cell_type": "markdown",
   "metadata": {
    "id": "BR73dCnrLEiq"
   },
   "source": [
    "# **6. Pembangunan Model Clustering**"
   ]
  },
  {
   "cell_type": "markdown",
   "metadata": {
    "id": "Fkd_QHXWMBDr"
   },
   "source": [
    "## **a. Pembangunan Model Clustering**"
   ]
  },
  {
   "cell_type": "markdown",
   "metadata": {
    "id": "Kn6Y2qbqMVLP"
   },
   "source": [
    "Pada tahap ini, Anda membangun model clustering dengan memilih algoritma yang sesuai untuk mengelompokkan data berdasarkan kesamaan. Berikut adalah **rekomendasi** tahapannya.\n",
    "1. Pilih algoritma clustering yang sesuai.\n",
    "2. Latih model dengan data menggunakan algoritma tersebut."
   ]
  },
  {
   "cell_type": "code",
   "execution_count": 13,
   "metadata": {},
   "outputs": [],
   "source": [
    "n_clusters = 5\n",
    "kmeans = KMeans(n_clusters=n_clusters, random_state=42)"
   ]
  },
  {
   "cell_type": "markdown",
   "metadata": {
    "id": "zsGVwzPKMEvn"
   },
   "source": [
    "## **b. Evaluasi Model Clustering**"
   ]
  },
  {
   "cell_type": "markdown",
   "metadata": {
    "id": "qk63ew39MeBf"
   },
   "source": [
    "Untuk menentukan jumlah cluster yang optimal dalam model clustering, Anda dapat menggunakan metode Elbow atau Silhouette Score.\n",
    "\n",
    "Metode ini membantu kita menemukan jumlah cluster yang memberikan pemisahan terbaik antar kelompok data, sehingga model yang dibangun dapat lebih efektif. Berikut adalah **rekomendasi** tahapannya.\n",
    "1. Gunakan Silhouette Score dan Elbow Method untuk menentukan jumlah cluster optimal.\n",
    "2. Hitung Silhouette Score sebagai ukuran kualitas cluster."
   ]
  },
  {
   "cell_type": "code",
   "execution_count": 14,
   "metadata": {
    "id": "yrPkK_bvM-Ya"
   },
   "outputs": [
    {
     "data": {
      "image/png": "[encoded data removed]",
      "text/plain": [
       "<Figure size 640x480 with 1 Axes>"
      ]
     },
     "metadata": {},
     "output_type": "display_data"
    }
   ],
   "source": [
    "import matplotlib.pyplot as plt\n",
    "\n",
    "# Menentukan jumlah cluster optimal dengan Elbow Method\n",
    "inertia = []\n",
    "range_n_clusters = range(1, 11)\n",
    "\n",
    "for n_clusters in range_n_clusters:\n",
    "    kmeans_temp = KMeans(n_clusters=n_clusters, random_state=42)\n",
    "    kmeans_temp.fit(processed_data)\n",
    "    inertia.append(kmeans_temp.inertia_)\n",
    "\n",
    "# Visualisasi Elbow Method\n",
    "plt.plot(range_n_clusters, inertia, marker='o')\n",
    "plt.title('Elbow Method untuk Menentukan Jumlah Cluster Optimal')\n",
    "plt.xlabel('Jumlah Cluster')\n",
    "plt.ylabel('Inertia')\n",
    "plt.show()\n"
   ]
  },
  {
   "cell_type": "code",
   "execution_count": 15,
   "metadata": {},
   "outputs": [
    {
     "data": {
      "text/html": [
       "<style>#sk-container-id-1 {\n",
       "  /* Definition of color scheme common for light and dark mode */\n",
       "  --sklearn-color-text: black;\n",
       "  --sklearn-color-line: gray;\n",
       "  /* Definition of color scheme for unfitted estimators */\n",
       "  --sklearn-color-unfitted-level-0: #fff5e6;\n",
       "  --sklearn-color-unfitted-level-1: #f6e4d2;\n",
       "  --sklearn-color-unfitted-level-2: #ffe0b3;\n",
       "  --sklearn-color-unfitted-level-3: chocolate;\n",
       "  /* Definition of color scheme for fitted estimators */\n",
       "  --sklearn-color-fitted-level-0: #f0f8ff;\n",
       "  --sklearn-color-fitted-level-1: #d4ebff;\n",
       "  --sklearn-color-fitted-level-2: #b3dbfd;\n",
       "  --sklearn-color-fitted-level-3: cornflowerblue;\n",
       "\n",
       "  /* Specific color for light theme */\n",
       "  --sklearn-color-text-on-default-background: var(--sg-text-color, var(--theme-code-foreground, var(--jp-content-font-color1, black)));\n",
       "  --sklearn-color-background: var(--sg-background-color, var(--theme-background, var(--jp-layout-color0, white)));\n",
       "  --sklearn-color-border-box: var(--sg-text-color, var(--theme-code-foreground, var(--jp-content-font-color1, black)));\n",
       "  --sklearn-color-icon: #696969;\n",
       "\n",
       "  @media (prefers-color-scheme: dark) {\n",
       "    /* Redefinition of color scheme for dark theme */\n",
       "    --sklearn-color-text-on-default-background: var(--sg-text-color, var(--theme-code-foreground, var(--jp-content-font-color1, white)));\n",
       "    --sklearn-color-background: var(--sg-background-color, var(--theme-background, var(--jp-layout-color0, #111)));\n",
       "    --sklearn-color-border-box: var(--sg-text-color, var(--theme-code-foreground, var(--jp-content-font-color1, white)));\n",
       "    --sklearn-color-icon: #878787;\n",
       "  }\n",
       "}\n",
       "\n",
       "#sk-container-id-1 {\n",
       "  color: var(--sklearn-color-text);\n",
       "}\n",
       "\n",
       "#sk-container-id-1 pre {\n",
       "  padding: 0;\n",
       "}\n",
       "\n",
       "#sk-container-id-1 input.sk-hidden--visually {\n",
       "  border: 0;\n",
       "  clip: rect(1px 1px 1px 1px);\n",
       "  clip: rect(1px, 1px, 1px, 1px);\n",
       "  height: 1px;\n",
       "  margin: -1px;\n",
       "  overflow: hidden;\n",
       "  padding: 0;\n",
       "  position: absolute;\n",
       "  width: 1px;\n",
       "}\n",
       "\n",
       "#sk-container-id-1 div.sk-dashed-wrapped {\n",
       "  border: 1px dashed var(--sklearn-color-line);\n",
       "  margin: 0 0.4em 0.5em 0.4em;\n",
       "  box-sizing: border-box;\n",
       "  padding-bottom: 0.4em;\n",
       "  background-color: var(--sklearn-color-background);\n",
       "}\n",
       "\n",
       "#sk-container-id-1 div.sk-container {\n",
       "  /* jupyter's `normalize.less` sets `[hidden] { display: none; }`\n",
       "     but bootstrap.min.css set `[hidden] { display: none !important; }`\n",
       "     so we also need the `!important` here to be able to override the\n",
       "     default hidden behavior on the sphinx rendered scikit-learn.org.\n",
       "     See: https://github.com/scikit-learn/scikit-learn/issues/21755 */\n",
       "  display: inline-block !important;\n",
       "  position: relative;\n",
       "}\n",
       "\n",
       "#sk-container-id-1 div.sk-text-repr-fallback {\n",
       "  display: none;\n",
       "}\n",
       "\n",
       "div.sk-parallel-item,\n",
       "div.sk-serial,\n",
       "div.sk-item {\n",
       "  /* draw centered vertical line to link estimators */\n",
       "  background-image: linear-gradient(var(--sklearn-color-text-on-default-background), var(--sklearn-color-text-on-default-background));\n",
       "  background-size: 2px 100%;\n",
       "  background-repeat: no-repeat;\n",
       "  background-position: center center;\n",
       "}\n",
       "\n",
       "/* Parallel-specific style estimator block */\n",
       "\n",
       "#sk-container-id-1 div.sk-parallel-item::after {\n",
       "  content: \"\";\n",
       "  width: 100%;\n",
       "  border-bottom: 2px solid var(--sklearn-color-text-on-default-background);\n",
       "  flex-grow: 1;\n",
       "}\n",
       "\n",
       "#sk-container-id-1 div.sk-parallel {\n",
       "  display: flex;\n",
       "  align-items: stretch;\n",
       "  justify-content: center;\n",
       "  background-color: var(--sklearn-color-background);\n",
       "  position: relative;\n",
       "}\n",
       "\n",
       "#sk-container-id-1 div.sk-parallel-item {\n",
       "  display: flex;\n",
       "  flex-direction: column;\n",
       "}\n",
       "\n",
       "#sk-container-id-1 div.sk-parallel-item:first-child::after {\n",
       "  align-self: flex-end;\n",
       "  width: 50%;\n",
       "}\n",
       "\n",
       "#sk-container-id-1 div.sk-parallel-item:last-child::after {\n",
       "  align-self: flex-start;\n",
       "  width: 50%;\n",
       "}\n",
       "\n",
       "#sk-container-id-1 div.sk-parallel-item:only-child::after {\n",
       "  width: 0;\n",
       "}\n",
       "\n",
       "/* Serial-specific style estimator block */\n",
       "\n",
       "#sk-container-id-1 div.sk-serial {\n",
       "  display: flex;\n",
       "  flex-direction: column;\n",
       "  align-items: center;\n",
       "  background-color: var(--sklearn-color-background);\n",
       "  padding-right: 1em;\n",
       "  padding-left: 1em;\n",
       "}\n",
       "\n",
       "\n",
       "/* Toggleable style: style used for estimator/Pipeline/ColumnTransformer box that is\n",
       "clickable and can be expanded/collapsed.\n",
       "- Pipeline and ColumnTransformer use this feature and define the default style\n",
       "- Estimators will overwrite some part of the style using the `sk-estimator` class\n",
       "*/\n",
       "\n",
       "/* Pipeline and ColumnTransformer style (default) */\n",
       "\n",
       "#sk-container-id-1 div.sk-toggleable {\n",
       "  /* Default theme specific background. It is overwritten whether we have a\n",
       "  specific estimator or a Pipeline/ColumnTransformer */\n",
       "  background-color: var(--sklearn-color-background);\n",
       "}\n",
       "\n",
       "/* Toggleable label */\n",
       "#sk-container-id-1 label.sk-toggleable__label {\n",
       "  cursor: pointer;\n",
       "  display: block;\n",
       "  width: 100%;\n",
       "  margin-bottom: 0;\n",
       "  padding: 0.5em;\n",
       "  box-sizing: border-box;\n",
       "  text-align: center;\n",
       "}\n",
       "\n",
       "#sk-container-id-1 label.sk-toggleable__label-arrow:before {\n",
       "  /* Arrow on the left of the label */\n",
       "  content: \"▸\";\n",
       "  float: left;\n",
       "  margin-right: 0.25em;\n",
       "  color: var(--sklearn-color-icon);\n",
       "}\n",
       "\n",
       "#sk-container-id-1 label.sk-toggleable__label-arrow:hover:before {\n",
       "  color: var(--sklearn-color-text);\n",
       "}\n",
       "\n",
       "/* Toggleable content - dropdown */\n",
       "\n",
       "#sk-container-id-1 div.sk-toggleable__content {\n",
       "  max-height: 0;\n",
       "  max-width: 0;\n",
       "  overflow: hidden;\n",
       "  text-align: left;\n",
       "  /* unfitted */\n",
       "  background-color: var(--sklearn-color-unfitted-level-0);\n",
       "}\n",
       "\n",
       "#sk-container-id-1 div.sk-toggleable__content.fitted {\n",
       "  /* fitted */\n",
       "  background-color: var(--sklearn-color-fitted-level-0);\n",
       "}\n",
       "\n",
       "#sk-container-id-1 div.sk-toggleable__content pre {\n",
       "  margin: 0.2em;\n",
       "  border-radius: 0.25em;\n",
       "  color: var(--sklearn-color-text);\n",
       "  /* unfitted */\n",
       "  background-color: var(--sklearn-color-unfitted-level-0);\n",
       "}\n",
       "\n",
       "#sk-container-id-1 div.sk-toggleable__content.fitted pre {\n",
       "  /* unfitted */\n",
       "  background-color: var(--sklearn-color-fitted-level-0);\n",
       "}\n",
       "\n",
       "#sk-container-id-1 input.sk-toggleable__control:checked~div.sk-toggleable__content {\n",
       "  /* Expand drop-down */\n",
       "  max-height: 200px;\n",
       "  max-width: 100%;\n",
       "  overflow: auto;\n",
       "}\n",
       "\n",
       "#sk-container-id-1 input.sk-toggleable__control:checked~label.sk-toggleable__label-arrow:before {\n",
       "  content: \"▾\";\n",
       "}\n",
       "\n",
       "/* Pipeline/ColumnTransformer-specific style */\n",
       "\n",
       "#sk-container-id-1 div.sk-label input.sk-toggleable__control:checked~label.sk-toggleable__label {\n",
       "  color: var(--sklearn-color-text);\n",
       "  background-color: var(--sklearn-color-unfitted-level-2);\n",
       "}\n",
       "\n",
       "#sk-container-id-1 div.sk-label.fitted input.sk-toggleable__control:checked~label.sk-toggleable__label {\n",
       "  background-color: var(--sklearn-color-fitted-level-2);\n",
       "}\n",
       "\n",
       "/* Estimator-specific style */\n",
       "\n",
       "/* Colorize estimator box */\n",
       "#sk-container-id-1 div.sk-estimator input.sk-toggleable__control:checked~label.sk-toggleable__label {\n",
       "  /* unfitted */\n",
       "  background-color: var(--sklearn-color-unfitted-level-2);\n",
       "}\n",
       "\n",
       "#sk-container-id-1 div.sk-estimator.fitted input.sk-toggleable__control:checked~label.sk-toggleable__label {\n",
       "  /* fitted */\n",
       "  background-color: var(--sklearn-color-fitted-level-2);\n",
       "}\n",
       "\n",
       "#sk-container-id-1 div.sk-label label.sk-toggleable__label,\n",
       "#sk-container-id-1 div.sk-label label {\n",
       "  /* The background is the default theme color */\n",
       "  color: var(--sklearn-color-text-on-default-background);\n",
       "}\n",
       "\n",
       "/* On hover, darken the color of the background */\n",
       "#sk-container-id-1 div.sk-label:hover label.sk-toggleable__label {\n",
       "  color: var(--sklearn-color-text);\n",
       "  background-color: var(--sklearn-color-unfitted-level-2);\n",
       "}\n",
       "\n",
       "/* Label box, darken color on hover, fitted */\n",
       "#sk-container-id-1 div.sk-label.fitted:hover label.sk-toggleable__label.fitted {\n",
       "  color: var(--sklearn-color-text);\n",
       "  background-color: var(--sklearn-color-fitted-level-2);\n",
       "}\n",
       "\n",
       "/* Estimator label */\n",
       "\n",
       "#sk-container-id-1 div.sk-label label {\n",
       "  font-family: monospace;\n",
       "  font-weight: bold;\n",
       "  display: inline-block;\n",
       "  line-height: 1.2em;\n",
       "}\n",
       "\n",
       "#sk-container-id-1 div.sk-label-container {\n",
       "  text-align: center;\n",
       "}\n",
       "\n",
       "/* Estimator-specific */\n",
       "#sk-container-id-1 div.sk-estimator {\n",
       "  font-family: monospace;\n",
       "  border: 1px dotted var(--sklearn-color-border-box);\n",
       "  border-radius: 0.25em;\n",
       "  box-sizing: border-box;\n",
       "  margin-bottom: 0.5em;\n",
       "  /* unfitted */\n",
       "  background-color: var(--sklearn-color-unfitted-level-0);\n",
       "}\n",
       "\n",
       "#sk-container-id-1 div.sk-estimator.fitted {\n",
       "  /* fitted */\n",
       "  background-color: var(--sklearn-color-fitted-level-0);\n",
       "}\n",
       "\n",
       "/* on hover */\n",
       "#sk-container-id-1 div.sk-estimator:hover {\n",
       "  /* unfitted */\n",
       "  background-color: var(--sklearn-color-unfitted-level-2);\n",
       "}\n",
       "\n",
       "#sk-container-id-1 div.sk-estimator.fitted:hover {\n",
       "  /* fitted */\n",
       "  background-color: var(--sklearn-color-fitted-level-2);\n",
       "}\n",
       "\n",
       "/* Specification for estimator info (e.g. \"i\" and \"?\") */\n",
       "\n",
       "/* Common style for \"i\" and \"?\" */\n",
       "\n",
       ".sk-estimator-doc-link,\n",
       "a:link.sk-estimator-doc-link,\n",
       "a:visited.sk-estimator-doc-link {\n",
       "  float: right;\n",
       "  font-size: smaller;\n",
       "  line-height: 1em;\n",
       "  font-family: monospace;\n",
       "  background-color: var(--sklearn-color-background);\n",
       "  border-radius: 1em;\n",
       "  height: 1em;\n",
       "  width: 1em;\n",
       "  text-decoration: none !important;\n",
       "  margin-left: 1ex;\n",
       "  /* unfitted */\n",
       "  border: var(--sklearn-color-unfitted-level-1) 1pt solid;\n",
       "  color: var(--sklearn-color-unfitted-level-1);\n",
       "}\n",
       "\n",
       ".sk-estimator-doc-link.fitted,\n",
       "a:link.sk-estimator-doc-link.fitted,\n",
       "a:visited.sk-estimator-doc-link.fitted {\n",
       "  /* fitted */\n",
       "  border: var(--sklearn-color-fitted-level-1) 1pt solid;\n",
       "  color: var(--sklearn-color-fitted-level-1);\n",
       "}\n",
       "\n",
       "/* On hover */\n",
       "div.sk-estimator:hover .sk-estimator-doc-link:hover,\n",
       ".sk-estimator-doc-link:hover,\n",
       "div.sk-label-container:hover .sk-estimator-doc-link:hover,\n",
       ".sk-estimator-doc-link:hover {\n",
       "  /* unfitted */\n",
       "  background-color: var(--sklearn-color-unfitted-level-3);\n",
       "  color: var(--sklearn-color-background);\n",
       "  text-decoration: none;\n",
       "}\n",
       "\n",
       "div.sk-estimator.fitted:hover .sk-estimator-doc-link.fitted:hover,\n",
       ".sk-estimator-doc-link.fitted:hover,\n",
       "div.sk-label-container:hover .sk-estimator-doc-link.fitted:hover,\n",
       ".sk-estimator-doc-link.fitted:hover {\n",
       "  /* fitted */\n",
       "  background-color: var(--sklearn-color-fitted-level-3);\n",
       "  color: var(--sklearn-color-background);\n",
       "  text-decoration: none;\n",
       "}\n",
       "\n",
       "/* Span, style for the box shown on hovering the info icon */\n",
       ".sk-estimator-doc-link span {\n",
       "  display: none;\n",
       "  z-index: 9999;\n",
       "  position: relative;\n",
       "  font-weight: normal;\n",
       "  right: .2ex;\n",
       "  padding: .5ex;\n",
       "  margin: .5ex;\n",
       "  width: min-content;\n",
       "  min-width: 20ex;\n",
       "  max-width: 50ex;\n",
       "  color: var(--sklearn-color-text);\n",
       "  box-shadow: 2pt 2pt 4pt #999;\n",
       "  /* unfitted */\n",
       "  background: var(--sklearn-color-unfitted-level-0);\n",
       "  border: .5pt solid var(--sklearn-color-unfitted-level-3);\n",
       "}\n",
       "\n",
       ".sk-estimator-doc-link.fitted span {\n",
       "  /* fitted */\n",
       "  background: var(--sklearn-color-fitted-level-0);\n",
       "  border: var(--sklearn-color-fitted-level-3);\n",
       "}\n",
       "\n",
       ".sk-estimator-doc-link:hover span {\n",
       "  display: block;\n",
       "}\n",
       "\n",
       "/* \"?\"-specific style due to the `<a>` HTML tag */\n",
       "\n",
       "#sk-container-id-1 a.estimator_doc_link {\n",
       "  float: right;\n",
       "  font-size: 1rem;\n",
       "  line-height: 1em;\n",
       "  font-family: monospace;\n",
       "  background-color: var(--sklearn-color-background);\n",
       "  border-radius: 1rem;\n",
       "  height: 1rem;\n",
       "  width: 1rem;\n",
       "  text-decoration: none;\n",
       "  /* unfitted */\n",
       "  color: var(--sklearn-color-unfitted-level-1);\n",
       "  border: var(--sklearn-color-unfitted-level-1) 1pt solid;\n",
       "}\n",
       "\n",
       "#sk-container-id-1 a.estimator_doc_link.fitted {\n",
       "  /* fitted */\n",
       "  border: var(--sklearn-color-fitted-level-1) 1pt solid;\n",
       "  color: var(--sklearn-color-fitted-level-1);\n",
       "}\n",
       "\n",
       "/* On hover */\n",
       "#sk-container-id-1 a.estimator_doc_link:hover {\n",
       "  /* unfitted */\n",
       "  background-color: var(--sklearn-color-unfitted-level-3);\n",
       "  color: var(--sklearn-color-background);\n",
       "  text-decoration: none;\n",
       "}\n",
       "\n",
       "#sk-container-id-1 a.estimator_doc_link.fitted:hover {\n",
       "  /* fitted */\n",
       "  background-color: var(--sklearn-color-fitted-level-3);\n",
       "}\n",
       "</style><div id=\"sk-container-id-1\" class=\"sk-top-container\"><div class=\"sk-text-repr-fallback\"><pre>KMeans(random_state=42)</pre><b>In a Jupyter environment, please rerun this cell to show the HTML representation or trust the notebook. <br />On GitHub, the HTML representation is unable to render, please try loading this page with nbviewer.org.</b></div><div class=\"sk-container\" hidden><div class=\"sk-item\"><div class=\"sk-estimator fitted sk-toggleable\"><input class=\"sk-toggleable__control sk-hidden--visually\" id=\"sk-estimator-id-1\" type=\"checkbox\" checked><label for=\"sk-estimator-id-1\" class=\"sk-toggleable__label fitted sk-toggleable__label-arrow fitted\">&nbsp;&nbsp;KMeans<a class=\"sk-estimator-doc-link fitted\" rel=\"noreferrer\" target=\"_blank\" href=\"https://scikit-learn.org/1.5/modules/generated/sklearn.cluster.KMeans.html\">?<span>Documentation for KMeans</span></a><span class=\"sk-estimator-doc-link fitted\">i<span>Fitted</span></span></label><div class=\"sk-toggleable__content fitted\"><pre>KMeans(random_state=42)</pre></div> </div></div></div></div>"
      ],
      "text/plain": [
       "KMeans(random_state=42)"
      ]
     },
     "execution_count": 15,
     "metadata": {},
     "output_type": "execute_result"
    }
   ],
   "source": [
    "n_clusters = 8\n",
    "kmeans = KMeans(n_clusters=n_clusters, random_state=42)\n",
    "kmeans.fit(processed_data)"
   ]
  },
  {
   "cell_type": "code",
   "execution_count": 16,
   "metadata": {},
   "outputs": [
    {
     "name": "stdout",
     "output_type": "stream",
     "text": [
      "Silhouette Score: 0.2251565075694942\n"
     ]
    }
   ],
   "source": [
    "# Menghitung Silhouette Score untuk model KMeans yang telah dilatih\n",
    "silhouette_avg = silhouette_score(processed_data, kmeans.labels_)\n",
    "print(f\"Silhouette Score: {silhouette_avg}\")\n"
   ]
  },
  {
   "cell_type": "markdown",
   "metadata": {
    "id": "vWZp5vKNQddd"
   },
   "source": [
    "## **c. Feature Selection (Opsional)**"
   ]
  },
  {
   "cell_type": "markdown",
   "metadata": {
    "id": "QIHKgE07Q4c0"
   },
   "source": [
    "Silakan lakukan feature selection jika Anda membutuhkan optimasi model clustering. Jika Anda menerapkan proses ini, silakan lakukan pemodelan dan evaluasi kembali menggunakan kolom-kolom hasil feature selection. Terakhir, bandingkan hasil performa model sebelum dan sesudah menerapkan feature selection."
   ]
  },
  {
   "cell_type": "code",
   "execution_count": 17,
   "metadata": {},
   "outputs": [],
   "source": [
    "# Reduksi Dimensi dengan PCA\n",
    "pca = PCA(n_components=5) \n",
    "pca_result = pca.fit_transform(processed_data)"
   ]
  },
  {
   "cell_type": "code",
   "execution_count": 18,
   "metadata": {},
   "outputs": [
    {
     "data": {
      "image/png": "[encoded data removed]",
      "text/plain": [
       "<Figure size 640x480 with 1 Axes>"
      ]
     },
     "metadata": {},
     "output_type": "display_data"
    }
   ],
   "source": [
    "# Menentukan Jumlah Cluster Optimal dengan Elbow Method\n",
    "inertia = []\n",
    "range_n_clusters = range(1, 11)\n",
    "\n",
    "for n_clusters in range_n_clusters:\n",
    "    kmeans = KMeans(n_clusters=n_clusters, random_state=42)\n",
    "    kmeans.fit(pca_result) \n",
    "    inertia.append(kmeans.inertia_)\n",
    "\n",
    "# Visualisasi Elbow Method\n",
    "plt.plot(range_n_clusters, inertia, marker='o')\n",
    "plt.title('Elbow Method untuk Menentukan Jumlah Cluster Optimal')\n",
    "plt.xlabel('Jumlah Cluster')\n",
    "plt.ylabel('Inertia')\n",
    "plt.show()"
   ]
  },
  {
   "cell_type": "code",
   "execution_count": 19,
   "metadata": {},
   "outputs": [],
   "source": [
    "# Menentukan Jumlah Cluster Optimal dari Grafik Elbow\n",
    "best_k = 7 \n",
    "kmeans = KMeans(n_clusters=best_k, random_state=42)\n",
    "kmeans_labels = kmeans.fit_predict(pca_result)"
   ]
  },
  {
   "cell_type": "code",
   "execution_count": 20,
   "metadata": {},
   "outputs": [
    {
     "name": "stdout",
     "output_type": "stream",
     "text": [
      "Silhouette Score dengan PCA: 0.9402070926600687\n"
     ]
    }
   ],
   "source": [
    "# Evaluasi Silhouette Score\n",
    "silhouette_avg_kmeans_pca = silhouette_score(pca_result, kmeans_labels)\n",
    "print(f\"Silhouette Score dengan PCA: {silhouette_avg_kmeans_pca}\")\n"
   ]
  },
  {
   "cell_type": "markdown",
   "metadata": {
    "id": "nn01TKkLLRiF"
   },
   "source": [
    "## **d. Visualisasi Hasil Clustering**"
   ]
  },
  {
   "cell_type": "markdown",
   "metadata": {
    "id": "gaz0fnhhMkRI"
   },
   "source": [
    "Setelah model clustering dilatih dan jumlah cluster optimal ditentukan, langkah selanjutnya adalah menampilkan hasil clustering melalui visualisasi.\n",
    "\n",
    "Berikut adalah **rekomendasi** tahapannya.\n",
    "1. Tampilkan hasil clustering dalam bentuk visualisasi, seperti grafik scatter plot atau 2D PCA projection."
   ]
  },
  {
   "cell_type": "code",
   "execution_count": 21,
   "metadata": {
    "id": "lfOjVvfYM-4v"
   },
   "outputs": [
    {
     "data": {
      "image/png": "[encoded data removed]",
      "text/plain": [
       "<Figure size 1000x600 with 1 Axes>"
      ]
     },
     "metadata": {},
     "output_type": "display_data"
    }
   ],
   "source": [
    "#reduksi 2d\n",
    "pca_2d = PCA(n_components=2)\n",
    "pca_result_2d = pca_2d.fit_transform(processed_data)\n",
    "\n",
    "\n",
    "kmeans_2d = KMeans(n_clusters=best_k, random_state=42)\n",
    "kmeans_labels_2d = kmeans_2d.fit_predict(pca_result_2d)\n",
    "\n",
    "\n",
    "\n",
    "plt.figure(figsize=(10, 6))\n",
    "sns.scatterplot(\n",
    "    x=pca_result_2d[:, 0],\n",
    "    y=pca_result_2d[:, 1],\n",
    "    hue=kmeans_labels_2d,\n",
    "    palette=sns.color_palette('hsv', best_k),\n",
    "    legend='full'\n",
    ")\n",
    "plt.title(\"Visualisasi Hasil Clustering dengan PCA (2D)\")\n",
    "plt.xlabel(\"Komponen 1\")\n",
    "plt.ylabel(\"Komponen 2\")\n",
    "plt.legend(title=\"Cluster\", loc='upper right', bbox_to_anchor=(1.15, 1))\n",
    "plt.show()"
   ]
  },
  {
   "cell_type": "markdown",
   "metadata": {
    "id": "X4eydPWJLH4I"
   },
   "source": [
    "## **e. Analisis dan Interpretasi Hasil Cluster**"
   ]
  },
  {
   "cell_type": "markdown",
   "metadata": {
    "id": "SENfLnfRMpC-"
   },
   "source": [
    "Setelah melakukan clustering, langkah selanjutnya adalah menganalisis karakteristik dari masing-masing cluster berdasarkan fitur yang tersedia.\n",
    "\n",
    "Berikut adalah **rekomendasi** tahapannya.\n",
    "1. Analisis karakteristik tiap cluster berdasarkan fitur yang tersedia (misalnya, distribusi nilai dalam cluster).\n",
    "2. Berikan interpretasi: Apakah hasil clustering sesuai dengan ekspektasi dan logika bisnis? Apakah ada pola tertentu yang bisa dimanfaatkan?"
   ]
  },
  {
   "cell_type": "code",
   "execution_count": 22,
   "metadata": {},
   "outputs": [],
   "source": [
    "df['cluster'] = kmeans_labels"
   ]
  },
  {
   "cell_type": "code",
   "execution_count": 23,
   "metadata": {},
   "outputs": [
    {
     "name": "stdout",
     "output_type": "stream",
     "text": [
      "          count       mean        std   min   25%   50%   75%    max\n",
      "cluster                                                             \n",
      "0        1090.0  55.854128  14.191845  26.0  45.0  56.0  67.0   89.0\n",
      "1        1346.0  67.809807  14.177298  31.0  58.0  69.0  78.0  109.0\n",
      "2        1840.0  47.760870  12.044886  21.0  38.0  46.5  54.0   90.0\n",
      "3        1106.0  58.968354  12.892240  27.0  50.0  59.0  69.0   94.0\n",
      "4        1277.0  48.318716   8.148373  24.0  42.0  49.0  54.0   77.0\n",
      "5        1075.0  49.933023  14.914067  20.0  37.0  49.0  63.0   92.0\n",
      "6         946.0  50.529598   9.164440  28.0  45.0  52.0  57.0   78.0\n"
     ]
    }
   ],
   "source": [
    "delivery_time = df.groupby('cluster')['Delivery time'].describe()\n",
    "print(delivery_time)"
   ]
  },
  {
   "cell_type": "code",
   "execution_count": 24,
   "metadata": {},
   "outputs": [
    {
     "name": "stdout",
     "output_type": "stream",
     "text": [
      "          count        mean         std   min    25%    50%    75%     max\n",
      "cluster                                                                   \n",
      "0        1090.0  353.763303  221.303935   1.0  200.0  300.0  400.0  2000.0\n",
      "1        1346.0  362.294205  241.010804  10.0  200.0  300.0  400.0  1600.0\n",
      "2        1840.0  309.822283  168.624704   0.0  200.0  300.0  352.5  1650.0\n",
      "3        1106.0  356.247740  262.574015   0.0  200.0  300.0  400.0  2500.0\n",
      "4        1277.0  393.794832  257.942076   1.0  250.0  300.0  500.0  2500.0\n",
      "5        1075.0  299.926512  194.710144   2.0  200.0  250.0  350.0  1700.0\n",
      "6         946.0  382.524313  268.195905  15.0  200.0  300.0  450.0  2500.0\n"
     ]
    }
   ],
   "source": [
    "price = df.groupby('cluster')['Price'].describe()\n",
    "print(price)"
   ]
  },
  {
   "cell_type": "code",
   "execution_count": 25,
   "metadata": {},
   "outputs": [
    {
     "name": "stdout",
     "output_type": "stream",
     "text": [
      "          count      mean       std  min  25%  50%  75%  max\n",
      "cluster                                                     \n",
      "0        1090.0  3.550183  0.666890  2.0  2.9  3.5  4.2  5.0\n",
      "1        1346.0  3.698811  0.660336  2.3  2.9  3.9  4.3  5.0\n",
      "2        1840.0  3.568641  0.629863  2.4  2.9  3.7  4.2  5.0\n",
      "3        1106.0  3.776311  0.643758  2.7  2.9  4.0  4.3  5.0\n",
      "4        1277.0  3.599374  0.661526  2.7  2.9  3.8  4.2  5.0\n",
      "5        1075.0  3.701395  0.579979  2.2  2.9  3.9  4.2  5.0\n",
      "6         946.0  3.762896  0.650883  2.5  2.9  4.1  4.3  5.0\n"
     ]
    }
   ],
   "source": [
    "avg_ratings = df.groupby('cluster')['Avg ratings'].describe()\n",
    "print(avg_ratings)"
   ]
  },
  {
   "cell_type": "code",
   "execution_count": 26,
   "metadata": {},
   "outputs": [
    {
     "name": "stdout",
     "output_type": "stream",
     "text": [
      "        count unique        top  freq\n",
      "cluster                              \n",
      "0        1090      1       Pune  1090\n",
      "1        1346      1    Kolkata  1346\n",
      "2        1840      3  Ahmedabad   717\n",
      "3        1106      1    Chennai  1106\n",
      "4        1277      1     Mumbai  1277\n",
      "5        1075      1  Hyderabad  1075\n",
      "6         946      1  Bangalore   946\n"
     ]
    }
   ],
   "source": [
    "city = df.groupby('cluster')['City'].describe()\n",
    "print(city)"
   ]
  },
  {
   "cell_type": "code",
   "execution_count": 27,
   "metadata": {},
   "outputs": [
    {
     "name": "stdout",
     "output_type": "stream",
     "text": [
      "        count unique           top freq\n",
      "cluster                                \n",
      "0        1090    591       Chinese   48\n",
      "1        1346    786        Indian   66\n",
      "2        1840    903        Indian  100\n",
      "3        1106    667        Indian   56\n",
      "4        1277    769       Chinese   64\n",
      "5        1075    612  South Indian   76\n",
      "6         946    645  South Indian   32\n"
     ]
    }
   ],
   "source": [
    "food_type = df.groupby('cluster')['Food type'].describe()\n",
    "print(food_type)"
   ]
  },
  {
   "cell_type": "code",
   "execution_count": 28,
   "metadata": {},
   "outputs": [
    {
     "name": "stdout",
     "output_type": "stream",
     "text": [
      "          count        mean         std   min   25%   50%    75%      max\n",
      "cluster                                                                  \n",
      "0        1090.0  112.834862  174.439520  20.0  50.0  80.0  100.0   1000.0\n",
      "1        1346.0  163.298663  350.113050  20.0  50.0  80.0  100.0   5000.0\n",
      "2        1840.0  117.505435  205.630438  20.0  50.0  80.0  100.0   5000.0\n",
      "3        1106.0  161.717902  281.200297  20.0  50.0  80.0  100.0   5000.0\n",
      "4        1277.0  118.214565  220.292498  20.0  50.0  80.0  100.0   5000.0\n",
      "5        1075.0  307.227907  877.727056  20.0  50.0  80.0  100.0  10000.0\n",
      "6         946.0  148.520085  220.852912  20.0  50.0  80.0  100.0   1000.0\n"
     ]
    }
   ],
   "source": [
    "total_rating = df.groupby('cluster')[\"Total ratings\"].describe()\n",
    "print(total_rating)"
   ]
  },
  {
   "cell_type": "markdown",
   "metadata": {
    "id": "JfgVMEBDS3KG"
   },
   "source": [
    "Hasil interpretasi :\n",
    "1. Cluster 0:\n",
    "- Waktu pengiriman rata-rata: 55.85 menit.\n",
    "- Harga rata-rata: 353.76.\n",
    "- Rating rata-rata: 3.55 (rendah dibanding cluster lain).\n",
    "- Dominasi kota: Pune.\n",
    "- Jenis makanan: Chinese.\n",
    "Kesimpulan: Cluster ini mencakup restoran dengan waktu pengiriman sedang, harga sedang, dan rating yang relatif rendah. Restoran di cluster ini umumnya melayani masakan Chinese dan berlokasi di Pune. Strategi perbaikan mungkin dapat difokuskan pada peningkatan kualitas layanan untuk meningkatkan rating.\n",
    "\n",
    "2. Cluster 1: \n",
    "- Waktu pengiriman rata-rata: 67.81 menit (terlama).\n",
    "- Harga rata-rata: 362.29.\n",
    "- Rating rata-rata: 3.70.\n",
    "- Dominasi kota: Kolkata.\n",
    "- Jenis makanan: Indian.\n",
    "Kesimpulan: Restoran dalam cluster ini memiliki waktu pengiriman yang paling lama dibandingkan cluster lain, meskipun ratingnya masih cukup baik. Fokus pada masakan Indian di Kolkata menunjukkan potensi pasar, namun waktu pengiriman yang lama dapat menjadi kendala yang perlu diperbaiki untuk meningkatkan kepuasan pelanggan.\n",
    "\n",
    "3. Cluster 2: \n",
    "- Waktu pengiriman rata-rata: 47.76 menit (tercepat).\n",
    "- Harga rata-rata: 309.82 (terendah).\n",
    "- Rating rata-rata: 3.57.\n",
    "- Dominasi kota: Ahmedabad.\n",
    "- Jenis makanan: Indian.\n",
    "Kesimpulan: Cluster ini menonjol dengan waktu pengiriman tercepat dan harga paling terjangkau, meskipun rating masih di level rata-rata. Restoran di Ahmedabad ini menunjukkan efisiensi dalam pengiriman, namun mungkin perlu meningkatkan kualitas layanan atau makanan untuk memperbaiki rating.\n",
    "\n",
    "4. Cluster 3: \n",
    "- Waktu pengiriman rata-rata: 58.97 menit.\n",
    "- Harga rata-rata: 356.25.\n",
    "- Rating rata-rata: 3.78 (tertinggi).\n",
    "- Dominasi kota: Chennai.\n",
    "- Jenis makanan: Indian.\n",
    "Kesimpulan: Cluster ini menunjukkan restoran dengan rating tertinggi, meskipun waktu pengiriman berada di tengah-tengah dibandingkan cluster lain. Dominasi makanan Indian di Chennai menjadi ciri khas, dan kualitas layanan atau makanan tampaknya menjadi daya tarik utama di sini.\n",
    "\n",
    "5. Cluster 4:\n",
    "- Waktu pengiriman rata-rata: 48.32 menit.\n",
    "- Harga rata-rata: 393.79 (tertinggi).\n",
    "- Rating rata-rata: 3.60.\n",
    "- Dominasi kota: Mumbai.\n",
    "- Jenis makanan: Chinese.\n",
    "Kesimpulan: Cluster ini mencakup restoran dengan harga rata-rata tertinggi, namun ratingnya tidak terlalu menonjol. Lokasi di Mumbai dan fokus pada masakan Chinese menunjukkan bahwa pasar ini mungkin menargetkan segmen pelanggan premium, tetapi ada ruang untuk perbaikan kualitas untuk mencocokkan harga yang lebih tinggi.\n",
    "\n",
    "6. Cluster 5: \n",
    "- Waktu pengiriman rata-rata: 49.93 menit.\n",
    "- Harga rata-rata: 299.93 (terendah).\n",
    "- Rating rata-rata: 3.70.\n",
    "- Dominasi kota: Hyderabad.\n",
    "- Jenis makanan: South Indian.\n",
    "Kesimpulan: Cluster ini memiliki restoran dengan harga terendah kedua dan waktu pengiriman yang relatif cepat. Fokus pada masakan South Indian menunjukkan bahwa restoran ini menawarkan layanan terjangkau tanpa mengorbankan rating, menjadikannya menarik bagi pelanggan yang sensitif terhadap harga.\n",
    "\n",
    "7. Cluster 6: \n",
    "- Waktu pengiriman rata-rata: 50.53 menit.\n",
    "- Harga rata-rata: 382.52.\n",
    "- Rating rata-rata: 3.76.\n",
    "- Dominasi kota: Bangalore.\n",
    "- Jenis makanan: South Indian.\n",
    "Kesimpulan: Cluster ini memiliki restoran dengan harga yang relatif tinggi dan rating yang baik, menunjukkan adanya fokus pada kualitas makanan atau layanan. Masakan South Indian di Bangalore tampaknya memiliki pasar yang kuat, dengan pelanggan yang mungkin bersedia membayar lebih untuk pengalaman makan yang memuaskan.\n"
   ]
  },
  {
   "cell_type": "markdown",
   "metadata": {
    "id": "jaYP1fx5VgWO"
   },
   "source": [
    "# **7. Mengeksport Data**\n",
    "\n",
    "Simpan hasilnya ke dalam file CSV."
   ]
  },
  {
   "cell_type": "code",
   "execution_count": 29,
   "metadata": {
    "id": "fkbg_o80aRSH"
   },
   "outputs": [
    {
     "data": {
      "text/html": [
       "<div>\n",
       "<style scoped>\n",
       "    .dataframe tbody tr th:only-of-type {\n",
       "        vertical-align: middle;\n",
       "    }\n",
       "\n",
       "    .dataframe tbody tr th {\n",
       "        vertical-align: top;\n",
       "    }\n",
       "\n",
       "    .dataframe thead th {\n",
       "        text-align: right;\n",
       "    }\n",
       "</style>\n",
       "<table border=\"1\" class=\"dataframe\">\n",
       "  <thead>\n",
       "    <tr style=\"text-align: right;\">\n",
       "      <th></th>\n",
       "      <th>ID</th>\n",
       "      <th>Area</th>\n",
       "      <th>City</th>\n",
       "      <th>Restaurant</th>\n",
       "      <th>Price</th>\n",
       "      <th>Avg ratings</th>\n",
       "      <th>Total ratings</th>\n",
       "      <th>Food type</th>\n",
       "      <th>Address</th>\n",
       "      <th>Delivery time</th>\n",
       "      <th>cluster</th>\n",
       "    </tr>\n",
       "  </thead>\n",
       "  <tbody>\n",
       "    <tr>\n",
       "      <th>4592</th>\n",
       "      <td>389388</td>\n",
       "      <td>Adajan</td>\n",
       "      <td>Surat</td>\n",
       "      <td>Kudrati Kahumbo</td>\n",
       "      <td>200.0</td>\n",
       "      <td>4.8</td>\n",
       "      <td>50</td>\n",
       "      <td>Beverages</td>\n",
       "      <td>Adajan</td>\n",
       "      <td>38</td>\n",
       "      <td>2</td>\n",
       "    </tr>\n",
       "    <tr>\n",
       "      <th>8363</th>\n",
       "      <td>418400</td>\n",
       "      <td>Ghatkopar Vikhroli</td>\n",
       "      <td>Mumbai</td>\n",
       "      <td>Uk14 Icecream</td>\n",
       "      <td>150.0</td>\n",
       "      <td>2.9</td>\n",
       "      <td>80</td>\n",
       "      <td>Ice Cream  Beverages</td>\n",
       "      <td>Ghatkopar Vikhroli</td>\n",
       "      <td>46</td>\n",
       "      <td>4</td>\n",
       "    </tr>\n",
       "    <tr>\n",
       "      <th>6093</th>\n",
       "      <td>451038</td>\n",
       "      <td>Sangvi</td>\n",
       "      <td>Pune</td>\n",
       "      <td>The House Of Momos</td>\n",
       "      <td>200.0</td>\n",
       "      <td>2.9</td>\n",
       "      <td>80</td>\n",
       "      <td>Chinese</td>\n",
       "      <td>Sangvi</td>\n",
       "      <td>65</td>\n",
       "      <td>0</td>\n",
       "    </tr>\n",
       "    <tr>\n",
       "      <th>5980</th>\n",
       "      <td>447804</td>\n",
       "      <td>Koregaon Park</td>\n",
       "      <td>Pune</td>\n",
       "      <td>Happy Singh</td>\n",
       "      <td>300.0</td>\n",
       "      <td>2.9</td>\n",
       "      <td>80</td>\n",
       "      <td>North Indian,Fast Food,Chinese,Mughlai</td>\n",
       "      <td>Koregaon Park</td>\n",
       "      <td>51</td>\n",
       "      <td>0</td>\n",
       "    </tr>\n",
       "    <tr>\n",
       "      <th>1141</th>\n",
       "      <td>53884</td>\n",
       "      <td>Kilpauk</td>\n",
       "      <td>Chennai</td>\n",
       "      <td>Wraps &amp; Rolls</td>\n",
       "      <td>150.0</td>\n",
       "      <td>4.1</td>\n",
       "      <td>50</td>\n",
       "      <td>Street Food,Fast Food,Pizzas,Italian,Desserts</td>\n",
       "      <td>Kilpauk</td>\n",
       "      <td>45</td>\n",
       "      <td>3</td>\n",
       "    </tr>\n",
       "    <tr>\n",
       "      <th>478</th>\n",
       "      <td>19643</td>\n",
       "      <td>Powai</td>\n",
       "      <td>Mumbai</td>\n",
       "      <td>Hoddogs</td>\n",
       "      <td>250.0</td>\n",
       "      <td>3.7</td>\n",
       "      <td>50</td>\n",
       "      <td>American,Fast Food</td>\n",
       "      <td>Near Liberty Industrial Estate</td>\n",
       "      <td>50</td>\n",
       "      <td>4</td>\n",
       "    </tr>\n",
       "    <tr>\n",
       "      <th>4961</th>\n",
       "      <td>406009</td>\n",
       "      <td>Navrangpura</td>\n",
       "      <td>Ahmedabad</td>\n",
       "      <td>Bablu Shree Farali Centre</td>\n",
       "      <td>200.0</td>\n",
       "      <td>3.9</td>\n",
       "      <td>50</td>\n",
       "      <td>Indian</td>\n",
       "      <td>Navrangpura</td>\n",
       "      <td>35</td>\n",
       "      <td>2</td>\n",
       "    </tr>\n",
       "    <tr>\n",
       "      <th>2270</th>\n",
       "      <td>201280</td>\n",
       "      <td>Adugodi</td>\n",
       "      <td>Bangalore</td>\n",
       "      <td>Pvr Cafe</td>\n",
       "      <td>400.0</td>\n",
       "      <td>2.9</td>\n",
       "      <td>80</td>\n",
       "      <td>Snacks,Fast Food,American</td>\n",
       "      <td>Koramangala</td>\n",
       "      <td>63</td>\n",
       "      <td>6</td>\n",
       "    </tr>\n",
       "    <tr>\n",
       "      <th>801</th>\n",
       "      <td>34313</td>\n",
       "      <td>T. Nagar</td>\n",
       "      <td>Chennai</td>\n",
       "      <td>The Right Place - The Residency</td>\n",
       "      <td>1000.0</td>\n",
       "      <td>2.9</td>\n",
       "      <td>80</td>\n",
       "      <td>Indian,Continental</td>\n",
       "      <td>T. Nagar</td>\n",
       "      <td>71</td>\n",
       "      <td>3</td>\n",
       "    </tr>\n",
       "    <tr>\n",
       "      <th>7248</th>\n",
       "      <td>80378</td>\n",
       "      <td>Takara Basthi</td>\n",
       "      <td>Hyderabad</td>\n",
       "      <td>Hotel Shri Raghavendra Pure Veg</td>\n",
       "      <td>200.0</td>\n",
       "      <td>4.4</td>\n",
       "      <td>50</td>\n",
       "      <td>South Indian</td>\n",
       "      <td>Monda Market</td>\n",
       "      <td>52</td>\n",
       "      <td>5</td>\n",
       "    </tr>\n",
       "  </tbody>\n",
       "</table>\n",
       "</div>"
      ],
      "text/plain": [
       "          ID                Area       City                       Restaurant  \\\n",
       "4592  389388              Adajan      Surat                  Kudrati Kahumbo   \n",
       "8363  418400  Ghatkopar Vikhroli     Mumbai                    Uk14 Icecream   \n",
       "6093  451038              Sangvi       Pune               The House Of Momos   \n",
       "5980  447804       Koregaon Park       Pune                      Happy Singh   \n",
       "1141   53884             Kilpauk    Chennai                    Wraps & Rolls   \n",
       "478    19643               Powai     Mumbai                          Hoddogs   \n",
       "4961  406009         Navrangpura  Ahmedabad        Bablu Shree Farali Centre   \n",
       "2270  201280             Adugodi  Bangalore                         Pvr Cafe   \n",
       "801    34313            T. Nagar    Chennai  The Right Place - The Residency   \n",
       "7248   80378       Takara Basthi  Hyderabad  Hotel Shri Raghavendra Pure Veg   \n",
       "\n",
       "       Price  Avg ratings  Total ratings  \\\n",
       "4592   200.0          4.8             50   \n",
       "8363   150.0          2.9             80   \n",
       "6093   200.0          2.9             80   \n",
       "5980   300.0          2.9             80   \n",
       "1141   150.0          4.1             50   \n",
       "478    250.0          3.7             50   \n",
       "4961   200.0          3.9             50   \n",
       "2270   400.0          2.9             80   \n",
       "801   1000.0          2.9             80   \n",
       "7248   200.0          4.4             50   \n",
       "\n",
       "                                          Food type  \\\n",
       "4592                                      Beverages   \n",
       "8363                           Ice Cream  Beverages   \n",
       "6093                                        Chinese   \n",
       "5980         North Indian,Fast Food,Chinese,Mughlai   \n",
       "1141  Street Food,Fast Food,Pizzas,Italian,Desserts   \n",
       "478                              American,Fast Food   \n",
       "4961                                         Indian   \n",
       "2270                      Snacks,Fast Food,American   \n",
       "801                              Indian,Continental   \n",
       "7248                                   South Indian   \n",
       "\n",
       "                             Address  Delivery time  cluster  \n",
       "4592                          Adajan             38        2  \n",
       "8363              Ghatkopar Vikhroli             46        4  \n",
       "6093                          Sangvi             65        0  \n",
       "5980                   Koregaon Park             51        0  \n",
       "1141                         Kilpauk             45        3  \n",
       "478   Near Liberty Industrial Estate             50        4  \n",
       "4961                     Navrangpura             35        2  \n",
       "2270                     Koramangala             63        6  \n",
       "801                         T. Nagar             71        3  \n",
       "7248                    Monda Market             52        5  "
      ]
     },
     "execution_count": 29,
     "metadata": {},
     "output_type": "execute_result"
    }
   ],
   "source": [
    "df_awal_with_label = df.to_csv(\"data_awal_with_label.csv\", index=False)\n",
    "df.sample(10)"
   ]
  },
  {
   "cell_type": "code",
   "execution_count": 30,
   "metadata": {},
   "outputs": [],
   "source": [
    "processed_dataa = processed_data\n",
    "processed_dataa = pd.DataFrame(processed_dataa)\n",
    "processed_dataa['cluster'] = kmeans_labels\n",
    "\n",
    "processed_dataa.to_csv(\"processed_data_with_label.csv\", index=False)"
   ]
  },
  {
   "cell_type": "code",
   "execution_count": 31,
   "metadata": {},
   "outputs": [
    {
     "data": {
      "text/html": [
       "<div>\n",
       "<style scoped>\n",
       "    .dataframe tbody tr th:only-of-type {\n",
       "        vertical-align: middle;\n",
       "    }\n",
       "\n",
       "    .dataframe tbody tr th {\n",
       "        vertical-align: top;\n",
       "    }\n",
       "\n",
       "    .dataframe thead th {\n",
       "        text-align: right;\n",
       "    }\n",
       "</style>\n",
       "<table border=\"1\" class=\"dataframe\">\n",
       "  <thead>\n",
       "    <tr style=\"text-align: right;\">\n",
       "      <th></th>\n",
       "      <th>0</th>\n",
       "      <th>1</th>\n",
       "      <th>2</th>\n",
       "      <th>3</th>\n",
       "      <th>4</th>\n",
       "      <th>5</th>\n",
       "      <th>6</th>\n",
       "      <th>7</th>\n",
       "      <th>8</th>\n",
       "      <th>9</th>\n",
       "      <th>...</th>\n",
       "      <th>3736</th>\n",
       "      <th>3737</th>\n",
       "      <th>3738</th>\n",
       "      <th>3739</th>\n",
       "      <th>3740</th>\n",
       "      <th>3741</th>\n",
       "      <th>3742</th>\n",
       "      <th>3743</th>\n",
       "      <th>3744</th>\n",
       "      <th>cluster</th>\n",
       "    </tr>\n",
       "  </thead>\n",
       "  <tbody>\n",
       "    <tr>\n",
       "      <th>0</th>\n",
       "      <td>0.12</td>\n",
       "      <td>0.800000</td>\n",
       "      <td>0.438202</td>\n",
       "      <td>0.008016</td>\n",
       "      <td>1.0</td>\n",
       "      <td>0.0</td>\n",
       "      <td>0.0</td>\n",
       "      <td>0.0</td>\n",
       "      <td>0.0</td>\n",
       "      <td>0.0</td>\n",
       "      <td>...</td>\n",
       "      <td>0.0</td>\n",
       "      <td>0.0</td>\n",
       "      <td>0.0</td>\n",
       "      <td>0.0</td>\n",
       "      <td>0.0</td>\n",
       "      <td>0.0</td>\n",
       "      <td>0.0</td>\n",
       "      <td>0.0</td>\n",
       "      <td>0.0</td>\n",
       "      <td>6</td>\n",
       "    </tr>\n",
       "    <tr>\n",
       "      <th>1</th>\n",
       "      <td>0.12</td>\n",
       "      <td>0.700000</td>\n",
       "      <td>0.404494</td>\n",
       "      <td>0.008016</td>\n",
       "      <td>1.0</td>\n",
       "      <td>0.0</td>\n",
       "      <td>0.0</td>\n",
       "      <td>0.0</td>\n",
       "      <td>0.0</td>\n",
       "      <td>0.0</td>\n",
       "      <td>...</td>\n",
       "      <td>0.0</td>\n",
       "      <td>0.0</td>\n",
       "      <td>0.0</td>\n",
       "      <td>0.0</td>\n",
       "      <td>0.0</td>\n",
       "      <td>0.0</td>\n",
       "      <td>0.0</td>\n",
       "      <td>0.0</td>\n",
       "      <td>0.0</td>\n",
       "      <td>6</td>\n",
       "    </tr>\n",
       "    <tr>\n",
       "      <th>2</th>\n",
       "      <td>0.26</td>\n",
       "      <td>0.800000</td>\n",
       "      <td>0.337079</td>\n",
       "      <td>0.008016</td>\n",
       "      <td>1.0</td>\n",
       "      <td>0.0</td>\n",
       "      <td>0.0</td>\n",
       "      <td>0.0</td>\n",
       "      <td>0.0</td>\n",
       "      <td>0.0</td>\n",
       "      <td>...</td>\n",
       "      <td>0.0</td>\n",
       "      <td>0.0</td>\n",
       "      <td>0.0</td>\n",
       "      <td>0.0</td>\n",
       "      <td>0.0</td>\n",
       "      <td>0.0</td>\n",
       "      <td>0.0</td>\n",
       "      <td>0.0</td>\n",
       "      <td>0.0</td>\n",
       "      <td>6</td>\n",
       "    </tr>\n",
       "    <tr>\n",
       "      <th>3</th>\n",
       "      <td>0.10</td>\n",
       "      <td>0.633333</td>\n",
       "      <td>0.415730</td>\n",
       "      <td>0.048096</td>\n",
       "      <td>1.0</td>\n",
       "      <td>0.0</td>\n",
       "      <td>0.0</td>\n",
       "      <td>0.0</td>\n",
       "      <td>0.0</td>\n",
       "      <td>0.0</td>\n",
       "      <td>...</td>\n",
       "      <td>0.0</td>\n",
       "      <td>0.0</td>\n",
       "      <td>0.0</td>\n",
       "      <td>0.0</td>\n",
       "      <td>0.0</td>\n",
       "      <td>0.0</td>\n",
       "      <td>0.0</td>\n",
       "      <td>0.0</td>\n",
       "      <td>0.0</td>\n",
       "      <td>6</td>\n",
       "    </tr>\n",
       "    <tr>\n",
       "      <th>4</th>\n",
       "      <td>0.14</td>\n",
       "      <td>0.666667</td>\n",
       "      <td>0.483146</td>\n",
       "      <td>0.003006</td>\n",
       "      <td>1.0</td>\n",
       "      <td>0.0</td>\n",
       "      <td>0.0</td>\n",
       "      <td>0.0</td>\n",
       "      <td>0.0</td>\n",
       "      <td>0.0</td>\n",
       "      <td>...</td>\n",
       "      <td>0.0</td>\n",
       "      <td>0.0</td>\n",
       "      <td>0.0</td>\n",
       "      <td>0.0</td>\n",
       "      <td>0.0</td>\n",
       "      <td>0.0</td>\n",
       "      <td>0.0</td>\n",
       "      <td>0.0</td>\n",
       "      <td>0.0</td>\n",
       "      <td>6</td>\n",
       "    </tr>\n",
       "  </tbody>\n",
       "</table>\n",
       "<p>5 rows × 3746 columns</p>\n",
       "</div>"
      ],
      "text/plain": [
       "      0         1         2         3    4    5    6    7    8    9  ...  \\\n",
       "0  0.12  0.800000  0.438202  0.008016  1.0  0.0  0.0  0.0  0.0  0.0  ...   \n",
       "1  0.12  0.700000  0.404494  0.008016  1.0  0.0  0.0  0.0  0.0  0.0  ...   \n",
       "2  0.26  0.800000  0.337079  0.008016  1.0  0.0  0.0  0.0  0.0  0.0  ...   \n",
       "3  0.10  0.633333  0.415730  0.048096  1.0  0.0  0.0  0.0  0.0  0.0  ...   \n",
       "4  0.14  0.666667  0.483146  0.003006  1.0  0.0  0.0  0.0  0.0  0.0  ...   \n",
       "\n",
       "   3736  3737  3738  3739  3740  3741  3742  3743  3744  cluster  \n",
       "0   0.0   0.0   0.0   0.0   0.0   0.0   0.0   0.0   0.0        6  \n",
       "1   0.0   0.0   0.0   0.0   0.0   0.0   0.0   0.0   0.0        6  \n",
       "2   0.0   0.0   0.0   0.0   0.0   0.0   0.0   0.0   0.0        6  \n",
       "3   0.0   0.0   0.0   0.0   0.0   0.0   0.0   0.0   0.0        6  \n",
       "4   0.0   0.0   0.0   0.0   0.0   0.0   0.0   0.0   0.0        6  \n",
       "\n",
       "[5 rows x 3746 columns]"
      ]
     },
     "execution_count": 31,
     "metadata": {},
     "output_type": "execute_result"
    }
   ],
   "source": [
    "processed_dataa.head()"
   ]
  }
 ],
 "metadata": {
  "colab": {
   "provenance": []
  },
  "kernelspec": {
   "display_name": "subekMLdicoding",
   "language": "python",
   "name": "python3"
  },
  "language_info": {
   "codemirror_mode": {
    "name": "ipython",
    "version": 3
   },
   "file_extension": ".py",
   "mimetype": "text/x-python",
   "name": "python",
   "nbconvert_exporter": "python",
   "pygments_lexer": "ipython3",
   "version": "3.9.20"
  }
 },
 "nbformat": 4,
 "nbformat_minor": 0
}
